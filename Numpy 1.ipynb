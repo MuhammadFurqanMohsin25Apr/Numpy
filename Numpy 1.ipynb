{
 "cells": [
  {
   "cell_type": "markdown",
   "metadata": {
    "id": "_Tix2qDOu2-G"
   },
   "source": [
    "# **Numpy**\n"
   ]
  },
  {
   "cell_type": "markdown",
   "metadata": {
    "id": "m39ox47u2KUK"
   },
   "source": [
    "### **Creating array using NumPy**"
   ]
  },
  {
   "cell_type": "code",
   "execution_count": 1,
   "metadata": {
    "id": "4BPJaMuj2Zc1"
   },
   "outputs": [],
   "source": [
    "import numpy as np"
   ]
  },
  {
   "cell_type": "code",
   "execution_count": 3,
   "metadata": {
    "colab": {
     "base_uri": "https://localhost:8080/"
    },
    "id": "7Oqw97ZKgwNv",
    "outputId": "ce3d6f8a-d943-43aa-a6cd-e97614d01b0e"
   },
   "outputs": [
    {
     "data": {
      "text/plain": [
       "array([1, 2, 3, 4, 5])"
      ]
     },
     "execution_count": 3,
     "metadata": {},
     "output_type": "execute_result"
    }
   ],
   "source": [
    "arr = np.array([1,2,3,4,5])\n",
    "arr"
   ]
  },
  {
   "cell_type": "code",
   "execution_count": 4,
   "metadata": {
    "colab": {
     "base_uri": "https://localhost:8080/"
    },
    "id": "JQw7OZdDg-9h",
    "outputId": "57418348-a751-46aa-a06b-d89546770554"
   },
   "outputs": [
    {
     "data": {
      "text/plain": [
       "dtype('int64')"
      ]
     },
     "execution_count": 4,
     "metadata": {},
     "output_type": "execute_result"
    }
   ],
   "source": [
    "arr.dtype"
   ]
  },
  {
   "cell_type": "code",
   "execution_count": 5,
   "metadata": {
    "colab": {
     "base_uri": "https://localhost:8080/"
    },
    "id": "fLNCwbEchSww",
    "outputId": "7f904a1f-c908-476c-8c57-1154161ec8e4"
   },
   "outputs": [
    {
     "data": {
      "text/plain": [
       "numpy.ndarray"
      ]
     },
     "execution_count": 5,
     "metadata": {},
     "output_type": "execute_result"
    }
   ],
   "source": [
    "type(arr)"
   ]
  },
  {
   "cell_type": "markdown",
   "metadata": {
    "id": "uYyjLab7y68Z"
   },
   "source": [
    "NumPy Arrays using lists"
   ]
  },
  {
   "cell_type": "code",
   "execution_count": 5,
   "metadata": {
    "colab": {
     "base_uri": "https://localhost:8080/"
    },
    "id": "oLUfWTz73It9",
    "outputId": "b2ff5923-3d90-4504-c2b0-d65b8cfa1ee5"
   },
   "outputs": [
    {
     "data": {
      "text/plain": [
       "list"
      ]
     },
     "execution_count": 5,
     "metadata": {},
     "output_type": "execute_result"
    }
   ],
   "source": [
    "lst =[1,2,3,4,5]\n",
    "type(lst)"
   ]
  },
  {
   "cell_type": "code",
   "execution_count": 6,
   "metadata": {
    "colab": {
     "base_uri": "https://localhost:8080/"
    },
    "id": "oW25xEunh8Pb",
    "outputId": "6154d28f-25f9-46ff-8a37-09fa6524aec4"
   },
   "outputs": [
    {
     "data": {
      "text/plain": [
       "numpy.ndarray"
      ]
     },
     "execution_count": 6,
     "metadata": {},
     "output_type": "execute_result"
    }
   ],
   "source": [
    "arr1 = np.array(list)\n",
    "type(arr1)"
   ]
  },
  {
   "cell_type": "markdown",
   "metadata": {
    "id": "FijdBQUyy65o"
   },
   "source": [
    "NumPy Arrays?\n",
    "\n",
    "1.   Matrices\n",
    "2.   Vectors\n",
    "\n"
   ]
  },
  {
   "cell_type": "code",
   "execution_count": 7,
   "metadata": {
    "colab": {
     "base_uri": "https://localhost:8080/"
    },
    "id": "hUxII4rdyhdQ",
    "outputId": "a118a957-fa39-481e-cbad-8166564f7078"
   },
   "outputs": [
    {
     "data": {
      "text/plain": [
       "array([[[ 1,  2,  3,  4,  5],\n",
       "        [ 7,  8,  9, 10, 11],\n",
       "        [ 7,  8,  9, 10, 11]],\n",
       "\n",
       "       [[ 1,  2,  3,  4,  5],\n",
       "        [ 7,  8,  9, 10, 11],\n",
       "        [ 7,  8,  9, 10, 11]]])"
      ]
     },
     "execution_count": 7,
     "metadata": {},
     "output_type": "execute_result"
    }
   ],
   "source": [
    "# matrix\n",
    "# 1D , 2D , 3D\n",
    "arr2 = np.array([[[1,2,3,4,5],\n",
    "                    [7,8,9,10,11],\n",
    "                    [7,8,9,10,11]],\n",
    "\n",
    "                    [[1,2,3,4,5],\n",
    "                    [7,8,9,10,11],\n",
    "                    [7,8,9,10,11]]])\n",
    "arr2\n"
   ]
  },
  {
   "cell_type": "code",
   "execution_count": 8,
   "metadata": {
    "colab": {
     "base_uri": "https://localhost:8080/"
    },
    "id": "d6u5T_e-z36j",
    "outputId": "a3910a29-f6f9-4feb-c1fe-63159377ee88"
   },
   "outputs": [
    {
     "data": {
      "text/plain": [
       "array([[81, 82, 83, 84],\n",
       "       [ 1,  2,  5,  6]])"
      ]
     },
     "execution_count": 8,
     "metadata": {},
     "output_type": "execute_result"
    }
   ],
   "source": [
    "# row vector\n",
    "row_vector = np.array([[81,82,83,84],[1,2,5,6]])\n",
    "\n",
    "row_vector"
   ]
  },
  {
   "cell_type": "code",
   "execution_count": 9,
   "metadata": {
    "colab": {
     "base_uri": "https://localhost:8080/"
    },
    "id": "IRLnzilLkryu",
    "outputId": "ced62ba6-debf-4dad-fd86-0bae3189cc24"
   },
   "outputs": [
    {
     "data": {
      "text/plain": [
       "array([[81],\n",
       "       [82],\n",
       "       [83]])"
      ]
     },
     "execution_count": 9,
     "metadata": {},
     "output_type": "execute_result"
    }
   ],
   "source": [
    "# column vector\n",
    "column_vector = np.array([[81],\n",
    "                          [82],\n",
    "                          [83]])\n",
    "\n",
    "column_vector"
   ]
  },
  {
   "cell_type": "markdown",
   "metadata": {
    "id": "oboTSRRB3q9k"
   },
   "source": [
    "NumPy Arrays using built-in methods\n",
    "\n",
    "\n",
    "\n",
    "\n"
   ]
  },
  {
   "cell_type": "code",
   "execution_count": 11,
   "metadata": {
    "colab": {
     "base_uri": "https://localhost:8080/"
    },
    "id": "UITGrGEbyhf9",
    "outputId": "7b21b107-58d1-439e-c88b-7a21bcc7186f"
   },
   "outputs": [
    {
     "name": "stdout",
     "output_type": "stream",
     "text": [
      "[ 0  1  2  3  4  5  6  7  8  9 10 11 12 13 14]\n",
      "[ 5  6  7  8  9 10 11 12 13 14 15 16 17 18 19]\n"
     ]
    },
    {
     "data": {
      "text/plain": [
       "array([10,  9,  8,  7,  6,  5,  4,  3])"
      ]
     },
     "execution_count": 11,
     "metadata": {},
     "output_type": "execute_result"
    }
   ],
   "source": [
    "# arange\n",
    "# zeros\n",
    "# ones\n",
    "\n",
    "# linspace - HW\n",
    "\n",
    "array = np.arange(15)\n",
    "print(array)\n",
    "array = np.arange(5,20)#(start, stop) (include, exclude)\n",
    "print(array)\n",
    "array = np.arange(10,2,-1)\n",
    "array"
   ]
  },
  {
   "cell_type": "code",
   "execution_count": 12,
   "metadata": {
    "colab": {
     "base_uri": "https://localhost:8080/"
    },
    "id": "594K0mJtnm3u",
    "outputId": "efe710b8-1d95-450f-937b-068d103b9acb"
   },
   "outputs": [
    {
     "name": "stdout",
     "output_type": "stream",
     "text": [
      "[0. 0. 0. 0. 0.]\n",
      "[1. 1. 1. 1. 1.]\n"
     ]
    }
   ],
   "source": [
    "zero = np.zeros(5)\n",
    "print(zero)\n",
    "\n",
    "one = np.ones(5)\n",
    "print(one)\n"
   ]
  },
  {
   "cell_type": "code",
   "execution_count": 14,
   "metadata": {
    "id": "ML_RiH0So14S"
   },
   "outputs": [
    {
     "data": {
      "text/plain": [
       "(2, 3)"
      ]
     },
     "execution_count": 14,
     "metadata": {},
     "output_type": "execute_result"
    }
   ],
   "source": [
    "arr =np.array([[1,2,3],[7,8,9]])\n",
    "arr.shape"
   ]
  },
  {
   "cell_type": "markdown",
   "metadata": {
    "id": "twcER-QwoTkA"
   },
   "source": [
    "arr.reshape"
   ]
  },
  {
   "cell_type": "code",
   "execution_count": 13,
   "metadata": {
    "id": "OfJTZKLUpVBH"
   },
   "outputs": [
    {
     "data": {
      "text/plain": [
       "array([10, 11, 12, 13, 14, 15, 16, 17, 18, 19, 20, 21, 22, 23, 24, 25, 26,\n",
       "       27, 28, 29, 30, 31, 32, 33, 34])"
      ]
     },
     "execution_count": 13,
     "metadata": {},
     "output_type": "execute_result"
    }
   ],
   "source": [
    "#reshapre\n",
    "arr1 = np.arange(10,35)\n",
    "arr1"
   ]
  },
  {
   "cell_type": "code",
   "execution_count": 17,
   "metadata": {},
   "outputs": [
    {
     "data": {
      "text/plain": [
       "(25,)"
      ]
     },
     "execution_count": 17,
     "metadata": {},
     "output_type": "execute_result"
    }
   ],
   "source": [
    "arr1.shape"
   ]
  },
  {
   "cell_type": "code",
   "execution_count": 14,
   "metadata": {},
   "outputs": [
    {
     "data": {
      "text/plain": [
       "array([[10, 11, 12, 13, 14],\n",
       "       [15, 16, 17, 18, 19],\n",
       "       [20, 21, 22, 23, 24],\n",
       "       [25, 26, 27, 28, 29],\n",
       "       [30, 31, 32, 33, 34]])"
      ]
     },
     "execution_count": 14,
     "metadata": {},
     "output_type": "execute_result"
    }
   ],
   "source": [
    "arr1.reshape(5,5)"
   ]
  },
  {
   "cell_type": "markdown",
   "metadata": {
    "id": "U5qWCJKYyhmn"
   },
   "source": [
    "Array with random numbers"
   ]
  },
  {
   "cell_type": "code",
   "execution_count": 15,
   "metadata": {
    "id": "tX77jd9iyhty"
   },
   "outputs": [
    {
     "data": {
      "text/plain": [
       "array([0.72604732, 0.78290069, 0.96936898, 0.34954982, 0.46070002,\n",
       "       0.29371074])"
      ]
     },
     "execution_count": 15,
     "metadata": {},
     "output_type": "execute_result"
    }
   ],
   "source": [
    "# HW np.random.rand\n",
    "r=np.random.rand(6)\n",
    "r"
   ]
  },
  {
   "cell_type": "markdown",
   "metadata": {
    "id": "4usOl4G17ZbZ"
   },
   "source": [
    "Array with random integers"
   ]
  },
  {
   "cell_type": "code",
   "execution_count": 16,
   "metadata": {
    "id": "1MkhOJ4byhwZ"
   },
   "outputs": [
    {
     "data": {
      "text/plain": [
       "7"
      ]
     },
     "execution_count": 16,
     "metadata": {},
     "output_type": "execute_result"
    }
   ],
   "source": [
    "# HW np.random.randint\n",
    "r1=np.random.randint(10)\n",
    "r1"
   ]
  },
  {
   "cell_type": "markdown",
   "metadata": {
    "id": "syvaIjukyiMT"
   },
   "source": [
    "Maximum and Minimum"
   ]
  },
  {
   "cell_type": "code",
   "execution_count": 18,
   "metadata": {
    "colab": {
     "base_uri": "https://localhost:8080/"
    },
    "id": "uSB4eNqY7x0N",
    "outputId": "d03a5814-6548-48eb-cefe-9eaf9c6f210d"
   },
   "outputs": [
    {
     "name": "stdout",
     "output_type": "stream",
     "text": [
      "34\n",
      "10\n"
     ]
    }
   ],
   "source": [
    "print(arr1.max())\n",
    "print(arr1.min())"
   ]
  },
  {
   "cell_type": "markdown",
   "metadata": {
    "id": "XZqM-lku8DhS"
   },
   "source": [
    "Indexing"
   ]
  },
  {
   "cell_type": "code",
   "execution_count": 34,
   "metadata": {
    "colab": {
     "base_uri": "https://localhost:8080/"
    },
    "id": "yk8e1PCN8FP_",
    "outputId": "a52a9f99-484c-4699-8e8b-d86595f1bff3"
   },
   "outputs": [
    {
     "data": {
      "text/plain": [
       "array([[  2,   3,   4,   5],\n",
       "       [  8,   9,  10,  11],\n",
       "       [812,  92, 110,   1]])"
      ]
     },
     "execution_count": 34,
     "metadata": {},
     "output_type": "execute_result"
    }
   ],
   "source": [
    "arr2 = np.array([[1,2,3,4,5],\n",
    "                [7,8,9,10,11],\n",
    "                [78,812,92,110,1]])\n",
    "\n",
    "arr2[:,1:]"
   ]
  },
  {
   "cell_type": "markdown",
   "metadata": {
    "id": "TOEOUFJQ97JI"
   },
   "source": [
    "Slicing\n"
   ]
  },
  {
   "cell_type": "code",
   "execution_count": 19,
   "metadata": {
    "colab": {
     "base_uri": "https://localhost:8080/"
    },
    "id": "Do_aNWpb956G",
    "outputId": "5536b747-db78-44a7-fa31-9417f21af467"
   },
   "outputs": [
    {
     "data": {
      "text/plain": [
       "array([[[ 1,  2,  3,  4,  5],\n",
       "        [ 7,  8,  9, 10, 11],\n",
       "        [ 7,  8,  9, 10, 11]]])"
      ]
     },
     "execution_count": 19,
     "metadata": {},
     "output_type": "execute_result"
    }
   ],
   "source": [
    "arr2[1:]"
   ]
  },
  {
   "cell_type": "code",
   "execution_count": 21,
   "metadata": {
    "colab": {
     "base_uri": "https://localhost:8080/"
    },
    "id": "I_QSFNvy-l17",
    "outputId": "8ba78860-4ae8-4943-ecf2-b23f6e706db4"
   },
   "outputs": [
    {
     "data": {
      "text/plain": [
       "array([[ 7,  8,  9, 10, 11]])"
      ]
     },
     "execution_count": 21,
     "metadata": {},
     "output_type": "execute_result"
    }
   ],
   "source": [
    "arr2[1:,1]"
   ]
  },
  {
   "cell_type": "code",
   "execution_count": 22,
   "metadata": {
    "colab": {
     "base_uri": "https://localhost:8080/"
    },
    "id": "fawFNjtfuC4K",
    "outputId": "2104c68c-4ab8-4d20-c3ad-a7f1d31bc69d"
   },
   "outputs": [
    {
     "data": {
      "text/plain": [
       "array([[[ 7,  8,  9, 10, 11],\n",
       "        [ 7,  8,  9, 10, 11]]])"
      ]
     },
     "execution_count": 22,
     "metadata": {},
     "output_type": "execute_result"
    }
   ],
   "source": [
    "arr2[1:,1:3]"
   ]
  },
  {
   "cell_type": "markdown",
   "metadata": {
    "id": "ju_JKt97KdnZ"
   },
   "source": [
    "Join two arrays\n",
    "\n"
   ]
  },
  {
   "cell_type": "markdown",
   "metadata": {
    "id": "IxFxDxJ1vJGY"
   },
   "source": [
    "#### Concatenate function"
   ]
  },
  {
   "cell_type": "code",
   "execution_count": 23,
   "metadata": {
    "colab": {
     "base_uri": "https://localhost:8080/"
    },
    "id": "s12eV8gc-sNC",
    "outputId": "1a527ca6-a87d-48ca-e603-4b948a468f3b"
   },
   "outputs": [
    {
     "data": {
      "text/plain": [
       "array([[4, 5, 6],\n",
       "       [5, 8, 1],\n",
       "       [1, 2, 3],\n",
       "       [3, 4, 7]])"
      ]
     },
     "execution_count": 23,
     "metadata": {},
     "output_type": "execute_result"
    }
   ],
   "source": [
    "arr1 = np.array([[1, 2, 3],[3,4,7]])\n",
    "\n",
    "arr2 = np.array([[4, 5, 6],[5,8,1]])\n",
    "\n",
    "arr = np.concatenate((arr2,arr1))\n",
    "\n",
    "arr"
   ]
  },
  {
   "cell_type": "markdown",
   "metadata": {
    "id": "eTVUMmuhv3i6"
   },
   "source": [
    "#### Stack function"
   ]
  },
  {
   "cell_type": "code",
   "execution_count": 32,
   "metadata": {
    "id": "_webDPnNwbC8"
   },
   "outputs": [],
   "source": [
    "arr1 = np.array([1,2,3])\n",
    "arr2 = [4,5,6]\n",
    "arr3 = [7,8,9]"
   ]
  },
  {
   "cell_type": "code",
   "execution_count": 25,
   "metadata": {
    "colab": {
     "base_uri": "https://localhost:8080/"
    },
    "id": "XeM9T6rIxdSt",
    "outputId": "5b67ae5d-867b-4233-e97f-2281bcec2afb"
   },
   "outputs": [
    {
     "data": {
      "text/plain": [
       "1"
      ]
     },
     "execution_count": 25,
     "metadata": {},
     "output_type": "execute_result"
    }
   ],
   "source": [
    "arr1.ndim"
   ]
  },
  {
   "cell_type": "code",
   "execution_count": 29,
   "metadata": {
    "colab": {
     "base_uri": "https://localhost:8080/"
    },
    "id": "jZ_ZXLygA7dz",
    "outputId": "f12d016a-a87a-4224-b54a-facc6ec984af"
   },
   "outputs": [
    {
     "data": {
      "text/plain": [
       "array([[1, 4],\n",
       "       [2, 5],\n",
       "       [3, 6]])"
      ]
     },
     "execution_count": 29,
     "metadata": {},
     "output_type": "execute_result"
    }
   ],
   "source": [
    "arr3 = np.stack((arr1,arr2), axis=1)\n",
    "arr3"
   ]
  },
  {
   "cell_type": "code",
   "execution_count": 33,
   "metadata": {
    "colab": {
     "base_uri": "https://localhost:8080/"
    },
    "id": "zaVMZ48_wVai",
    "outputId": "269a17ff-77f3-4bc0-aafe-38a21f55a6b4"
   },
   "outputs": [
    {
     "data": {
      "text/plain": [
       "array([[1, 4, 7],\n",
       "       [2, 5, 8],\n",
       "       [3, 6, 9]])"
      ]
     },
     "execution_count": 33,
     "metadata": {},
     "output_type": "execute_result"
    }
   ],
   "source": [
    "arr4 = np.stack((arr1,arr2,arr3), axis=1)\n",
    "arr4"
   ]
  },
  {
   "cell_type": "markdown",
   "metadata": {
    "id": "g-HcRAelKqD4"
   },
   "source": [
    "Split Into Arrays"
   ]
  },
  {
   "cell_type": "code",
   "execution_count": 35,
   "metadata": {
    "colab": {
     "base_uri": "https://localhost:8080/"
    },
    "id": "_nPZk9baA9ky",
    "outputId": "77123b19-57bd-4044-98a8-e047d35dea0d"
   },
   "outputs": [
    {
     "data": {
      "text/plain": [
       "18"
      ]
     },
     "execution_count": 35,
     "metadata": {},
     "output_type": "execute_result"
    }
   ],
   "source": [
    "array_big = np.array([1,2,3,4,12,5,6,7,8,9,10,1,5,0,25,324,78,8])\n",
    "len(array_big)"
   ]
  },
  {
   "cell_type": "code",
   "execution_count": 36,
   "metadata": {
    "id": "ZJShir5BD_LU"
   },
   "outputs": [],
   "source": [
    "new_arr =np.array_split(array_big,5)"
   ]
  },
  {
   "cell_type": "code",
   "execution_count": 37,
   "metadata": {
    "colab": {
     "base_uri": "https://localhost:8080/"
    },
    "id": "WobrXpDoyThs",
    "outputId": "23b2c129-6b4f-4412-daff-e6b93da497ac"
   },
   "outputs": [
    {
     "data": {
      "text/plain": [
       "array([ 8,  9, 10,  1])"
      ]
     },
     "execution_count": 37,
     "metadata": {},
     "output_type": "execute_result"
    }
   ],
   "source": [
    "new_arr[2]"
   ]
  },
  {
   "cell_type": "code",
   "execution_count": 38,
   "metadata": {
    "colab": {
     "base_uri": "https://localhost:8080/"
    },
    "id": "aCDMLcf3zIG9",
    "outputId": "754d3e7d-bad5-4ad9-9889-907c33e54de1"
   },
   "outputs": [
    {
     "data": {
      "text/plain": [
       "[array([[1, 2, 3],\n",
       "        [4, 5, 6],\n",
       "        [7, 8, 9]]),\n",
       " array([[10, 11, 12],\n",
       "        [13, 14, 15],\n",
       "        [16, 17, 18]])]"
      ]
     },
     "execution_count": 38,
     "metadata": {},
     "output_type": "execute_result"
    }
   ],
   "source": [
    "arr2d = np.array([[1, 2, 3], [4, 5, 6], [7, 8, 9], [10, 11, 12], [13, 14, 15], [16, 17, 18]])\n",
    "\n",
    "new_arr2 = np.array_split(arr2d, 2, axis = 0)\n",
    "\n",
    "new_arr2"
   ]
  },
  {
   "cell_type": "markdown",
   "metadata": {
    "id": "pfaPN7g5z4WV"
   },
   "source": [
    "Search()"
   ]
  },
  {
   "cell_type": "code",
   "execution_count": 39,
   "metadata": {
    "colab": {
     "base_uri": "https://localhost:8080/"
    },
    "id": "NRULKvclz6kc",
    "outputId": "386759dc-21ce-48bb-f09a-47f5b36100a4"
   },
   "outputs": [
    {
     "data": {
      "text/plain": [
       "(array([ 4, 10, 14, 15, 16]),)"
      ]
     },
     "execution_count": 39,
     "metadata": {},
     "output_type": "execute_result"
    }
   ],
   "source": [
    "array_big_10 = np.where(array_big >= 10)\n",
    "array_big_10"
   ]
  },
  {
   "cell_type": "code",
   "execution_count": 40,
   "metadata": {
    "colab": {
     "base_uri": "https://localhost:8080/"
    },
    "id": "9Prygf840UeG",
    "outputId": "edc8336e-85d9-4953-96c3-970fff9552d7"
   },
   "outputs": [
    {
     "data": {
      "text/plain": [
       "(array([10]),)"
      ]
     },
     "execution_count": 40,
     "metadata": {},
     "output_type": "execute_result"
    }
   ],
   "source": [
    "array_big_1 = np.where(array_big == 10)\n",
    "array_big_1"
   ]
  },
  {
   "cell_type": "markdown",
   "metadata": {
    "id": "TuM738XDKwHS"
   },
   "source": [
    "Sort()"
   ]
  },
  {
   "cell_type": "code",
   "execution_count": 41,
   "metadata": {
    "colab": {
     "base_uri": "https://localhost:8080/"
    },
    "id": "U2kAQ3BlRCFb",
    "outputId": "13a4609e-346a-4f05-d2e0-dcddd11778d2"
   },
   "outputs": [
    {
     "data": {
      "text/plain": [
       "array([324,  78,  25,  12,  10,   9,   8,   8,   7,   6,   5,   5,   4,\n",
       "         3,   2,   1,   1,   0])"
      ]
     },
     "execution_count": 41,
     "metadata": {},
     "output_type": "execute_result"
    }
   ],
   "source": [
    "array_big_sort = np.sort(array_big)[::-1]\n",
    "array_big_sort"
   ]
  },
  {
   "cell_type": "code",
   "execution_count": null,
   "metadata": {
    "id": "tH037o1CRHDC"
   },
   "outputs": [],
   "source": []
  }
 ],
 "metadata": {
  "colab": {
   "provenance": []
  },
  "kernelspec": {
   "display_name": "Python 3 (ipykernel)",
   "language": "python",
   "name": "python3"
  },
  "language_info": {
   "codemirror_mode": {
    "name": "ipython",
    "version": 3
   },
   "file_extension": ".py",
   "mimetype": "text/x-python",
   "name": "python",
   "nbconvert_exporter": "python",
   "pygments_lexer": "ipython3",
   "version": "3.12.5"
  }
 },
 "nbformat": 4,
 "nbformat_minor": 4
}
